{
 "cells": [
  {
   "cell_type": "markdown",
   "metadata": {},
   "source": [
    "# Visualization of results and data\n",
    "\n",
    "In this notebook we visualize some of the the data and results from our experiments."
   ]
  },
  {
   "cell_type": "code",
   "execution_count": 1,
   "metadata": {},
   "outputs": [],
   "source": [
    "import os\n",
    "\n",
    "import mlflow\n",
    "\n",
    "import numpy as np\n",
    "from PIL import Image\n",
    "import matplotlib.pyplot as plt\n",
    "import matplotlib.image as mpimg\n",
    "import ipywidgets as widgets\n",
    "from ipywidgets import Layout, Box\n",
    "%matplotlib widget"
   ]
  },
  {
   "cell_type": "code",
   "execution_count": 2,
   "metadata": {},
   "outputs": [],
   "source": [
    "# setup for src emotion images\n",
    "emots = ['happy', 'angry', 'sad', 'surprise']\n",
    "\n",
    "# setup for generated images\n",
    "df = mlflow.search_runs([str(0)])\n",
    "models = {k: v for k, v in  df[~(df['tags.spectrogram'].isnull())][['tags.mlflow.runName', 'run_id']].values}\n"
   ]
  },
  {
   "cell_type": "code",
   "execution_count": 25,
   "metadata": {},
   "outputs": [],
   "source": [
    "# Helpers\n",
    "def get_emot_img(emot):\n",
    "    tst_img_dir = os.path.join('data','FER', 'test', emot)\n",
    "    _file = os.listdir(tst_img_dir)[0]\n",
    "    img_pth = os.path.join(tst_img_dir, _file)\n",
    "    return mpimg.imread(img_pth), _file\n",
    "\n",
    "def get_spect_at_epoch(run_id, epoch, emote, sample_name):\n",
    "    if epoch == 0:\n",
    "        epoch = 1\n",
    "    model_pth  = os.path.join('mlruns', '0', run_id, 'artifacts', str(epoch), emote + '-' + sample_name+'.npy')\n",
    "    return np.load(model_pth)\n",
    "\n",
    "def display_results(obj):\n",
    "    img, img_name = get_emot_img(emot_widget.value)\n",
    "    spect = get_spect_at_epoch(models[mdl_widget.value], epoch_widget.value, emot_widget.value, img_name)\n",
    "    fig, (ax1, ax2) = plt.subplots(1, 2)\n",
    "    ax1.imshow(img, cmap='gray')\n",
    "    ax2.imshow(spect[0][0], cmap='gray')\n",
    "    output.clear_output()\n",
    "    with output:\n",
    "        fig.show()"
   ]
  },
  {
   "cell_type": "code",
   "execution_count": 26,
   "metadata": {},
   "outputs": [],
   "source": [
    "# widget setup\n",
    "\n",
    "emot_widget = widgets.Dropdown(\n",
    "    options=emots,\n",
    "    value=emots[0],\n",
    "    description='Emotions:',\n",
    "    disabled=False,\n",
    ")\n",
    "\n",
    "mdl_widget = widgets.Dropdown(\n",
    "    options=list(models.keys()),\n",
    "    value=list(models.keys())[0],\n",
    "    description='Models:',\n",
    "    disabled=False,\n",
    ")\n",
    "\n",
    "epoch_widget = widgets.IntSlider(\n",
    "    value=300,\n",
    "    min=0,\n",
    "    max=300,\n",
    "    step=15,\n",
    "    description='Epoch:',\n",
    "    disabled=False,\n",
    "    continuous_update=False,\n",
    "    orientation='horizontal',\n",
    "    readout=True,\n",
    "    readout_format='d'\n",
    ")\n",
    "\n",
    "items_layout = Layout(height='auto') \n",
    "\n",
    "button = widgets.Button(description=\"Click Me!\")\n",
    "output = widgets.Output(layout=items_layout)\n",
    "\n",
    "box_layout = Layout(display='flex',\n",
    "                    flex_flow='column',\n",
    "                    align_items='stretch')\n",
    "\n",
    "items = [emot_widget, mdl_widget, epoch_widget, button, output]\n",
    "box = Box(children=items, layout=box_layout)\n",
    "button.on_click(display_results)"
   ]
  },
  {
   "cell_type": "code",
   "execution_count": 27,
   "metadata": {},
   "outputs": [
    {
     "data": {
      "application/vnd.jupyter.widget-view+json": {
       "model_id": "50af4523b41745aeafedc0f8406c384f",
       "version_major": 2,
       "version_minor": 0
      },
      "text/plain": [
       "Box(children=(Dropdown(description='Emotions:', options=('happy', 'angry', 'sad', 'surprise'), value='happy'),…"
      ]
     },
     "metadata": {},
     "output_type": "display_data"
    }
   ],
   "source": [
    "box\n"
   ]
  },
  {
   "cell_type": "code",
   "execution_count": null,
   "metadata": {},
   "outputs": [],
   "source": []
  }
 ],
 "metadata": {
  "interpreter": {
   "hash": "f986676560c94d444473b7ae07ed0ef7fe7267171c8efc65671430c50dc09d1c"
  },
  "kernelspec": {
   "display_name": "Python 3.8.5 ('aml-emote2pitch-1mtwg_jV-py3.8')",
   "language": "python",
   "name": "python3"
  },
  "language_info": {
   "codemirror_mode": {
    "name": "ipython",
    "version": 3
   },
   "file_extension": ".py",
   "mimetype": "text/x-python",
   "name": "python",
   "nbconvert_exporter": "python",
   "pygments_lexer": "ipython3",
   "version": "3.8.5"
  },
  "orig_nbformat": 4
 },
 "nbformat": 4,
 "nbformat_minor": 2
}
