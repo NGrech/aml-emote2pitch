{
 "cells": [
  {
   "cell_type": "code",
   "execution_count": 17,
   "metadata": {},
   "outputs": [],
   "source": [
    "import torch\n",
    "from torch import nn \n",
    "from torch.autograd import Variable\n",
    "from torch.nn import functional as F\n",
    "import torch.utils.data\n",
    "from src import dataset, emote2pitch, training\n",
    "from torchvision.models.inception import inception_v3\n",
    "import numpy as np\n",
    "import torchvision.transforms as transforms\n",
    "import os\n",
    "from scipy.stats import entropy\n",
    "device = torch.device(\"cuda:0\" if (torch.cuda.is_available() > 0) else \"cpu\")"
   ]
  },
  {
   "cell_type": "code",
   "execution_count": 18,
   "metadata": {},
   "outputs": [],
   "source": [
    "csv_pth = os.path.join('data', 'pairings', 'FER2constant-q-3-splits-22050Hz.csv')\n",
    "image_size = 256\n",
    "num_workers = 0\n",
    "batch_size = 1 \n",
    "n_epochs = 2 "
   ]
  },
  {
   "cell_type": "code",
   "execution_count": 19,
   "metadata": {},
   "outputs": [],
   "source": [
    "transform = transforms.Compose([\n",
    "                               transforms.Resize(image_size),\n",
    "                               transforms.CenterCrop(image_size),\n",
    "                               transforms.Grayscale(num_output_channels=1),\n",
    "                               transforms.ToTensor(),\n",
    "                               transforms.Normalize((0.5), (0.5)),\n",
    "                           ])\n",
    "\n",
    "emo2pitch_train_set = dataset.EmotePairingDataset(csv_pth, transform=transform, target_transform=transform)\n",
    "\n",
    "dataloader = torch.utils.data.DataLoader(dataset=emo2pitch_train_set,\n",
    "                                          batch_size=batch_size,\n",
    "                                          shuffle=True)"
   ]
  },
  {
   "cell_type": "code",
   "execution_count": 20,
   "metadata": {},
   "outputs": [],
   "source": [
    "def inception_score(images, cuda=True, batch_size=32, resize=False, splits=1):\n",
    "    \"\"\" Computes the inception score of generated images\n",
    "    images: Torch dataset of (3xhxw) numpy images normalized in the ranges [-1.1]\n",
    "    batch_size: batch size for feeding into inception V3\n",
    "    splits: number of splits\n",
    "    \"\"\"\n",
    "    N=len(images)\n",
    "    assert batch_size > 0\n",
    "    assert N > batch_size\n",
    "\n",
    "    if cuda:\n",
    "        dtype=torch.FloatTensor()\n",
    "    else:\n",
    "        if torch.cuda.is_available():\n",
    "            print(\"Warning: Cuda available. Set cuda=True\")\n",
    "\n",
    "    # set up dataloader\n",
    "    dataloader = torch.utils.data.DataLoader(dataset=emo2pitch_train_set,\n",
    "                                          batch_size=batch_size,\n",
    "                                          shuffle=True)\n",
    "\n",
    "    #load inception model\n",
    "    inception_model=inception_v3(pretrained=True, transform_input=False).type(dtype)\n",
    "    inception_model.eval();\n",
    "    up=nn.Upsample(size=(299, 299), mode='bilinear').type(dtype)\n",
    "    def get_pred(x):\n",
    "        if resize:\n",
    "            x=up(x)\n",
    "        x=inception_model(x)\n",
    "        return F.softmax(x).data.cpu().numpy()\n",
    "    # get predicitons\n",
    "    preds=np.zeros((N, 1000))\n",
    "    for i, batch in enumerate(dataloader, 0):\n",
    "        batch=batch.type(dtype)\n",
    "        batchv=Variable(batch)\n",
    "        batch_size_i=batch.size()[0]\n",
    "        preds[i*batch_size: i*batch_size + batch_size_i]=get_pred(batchv)\n",
    "    \n",
    "    # compute mean k1-divergence\n",
    "    split_scores=[]\n",
    "    for k in range(splits):\n",
    "        part=preds[k*(N // splits): (k+1)* (N // splits),:]\n",
    "        py=np.mean(part, asix=0)\n",
    "        scores=[]\n",
    "        for i in range(part.shape[0]):\n",
    "            pyx=part[i, :]\n",
    "            scores.append(entropy(pyx, py))\n",
    "        split_scores.append(np.exp(np.mean(scores)))\n",
    "    return np.mean(split_scores), np.std(split_scores)\n",
    "    "
   ]
  },
  {
   "cell_type": "code",
   "execution_count": null,
   "metadata": {},
   "outputs": [],
   "source": [
    "if __name__=='__main__':\n",
    "    class IgnoreLabelDataset(torch.utils.data.Dataset):\n",
    "        def __init__(self, orig):\n",
    "            self.orig=orig\n",
    "    \n",
    "        def __getitem__(self, index):\n",
    "            return self.orig[index][0]\n",
    "\n",
    "        def __len__(self):\n",
    "            return len(self.orig)\n",
    "\n",
    "    IgnoreLabelDataset(emo2pitch_train_set)\n",
    "    print(\"Calculating Inception Score...\")\n",
    "    print(inception_score(IgnoreLabelDataset(emo2pitch_train_set),cuda=True, batch_size=32, resize=True, splits=4))"
   ]
  }
 ],
 "metadata": {
  "interpreter": {
   "hash": "1380eb66e7a7d98b58ac5aa43694cb39b2731ee6f8c7928d2c0b0372594f8d78"
  },
  "kernelspec": {
   "display_name": "Python 3.7.4 ('base')",
   "language": "python",
   "name": "python3"
  },
  "language_info": {
   "codemirror_mode": {
    "name": "ipython",
    "version": 3
   },
   "file_extension": ".py",
   "mimetype": "text/x-python",
   "name": "python",
   "nbconvert_exporter": "python",
   "pygments_lexer": "ipython3",
   "version": "3.7.4"
  },
  "orig_nbformat": 4
 },
 "nbformat": 4,
 "nbformat_minor": 2
}
